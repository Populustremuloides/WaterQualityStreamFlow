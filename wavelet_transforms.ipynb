{
 "cells": [
  {
   "cell_type": "code",
   "execution_count": 15,
   "metadata": {},
   "outputs": [],
   "source": [
    "import pywt\n",
    "import numpy as np\n",
    "import pandas as pd\n",
    "from matplotlib import pyplot as plt"
   ]
  },
  {
   "cell_type": "markdown",
   "metadata": {},
   "source": [
    "# Function to get n day moving average"
   ]
  },
  {
   "cell_type": "code",
   "execution_count": 16,
   "metadata": {},
   "outputs": [],
   "source": [
    "\n",
    "def Moving_average(days):\n",
    "    flow_data = pd.read_csv(\"epa_flow_data.csv\").T\n",
    "    end = flow_data.shape[1]\n",
    "    holder = None\n",
    "    for i in range (days-1):\n",
    "        if holder is None:\n",
    "            holder= flow_data.iloc[:,:end - (days-1)]\n",
    "        else:\n",
    "            holder+=flow_data.iloc[:,i:end - (days-1)+i]\n",
    "        holder = holder/days\n",
    "        cA,cD = pywt.dwt(holder,'db1')\n",
    "        cA = pd.DataFrame(cA)\n",
    "        cA.to_csv(f\"{days}_Day_Moving_Average_Transformed.csv\")\n",
    "    return holder\n",
    "data = Moving_average(3)"
   ]
  },
  {
   "cell_type": "markdown",
   "metadata": {},
   "source": [
    "\n",
    "# 3 Day moving Average"
   ]
  },
  {
   "cell_type": "code",
   "execution_count": 17,
   "metadata": {},
   "outputs": [],
   "source": [
    "from scipy.signal import cwt as wv\n",
    "from scipy.signal import ricker as ricker"
   ]
  },
  {
   "cell_type": "code",
   "execution_count": null,
   "metadata": {},
   "outputs": [],
   "source": []
  },
  {
   "cell_type": "code",
   "execution_count": 18,
   "metadata": {},
   "outputs": [
    {
     "name": "stdout",
     "output_type": "stream",
     "text": [
      "0           NaN\n",
      "1           NaN\n",
      "2           NaN\n",
      "3      0.004190\n",
      "4      0.004789\n",
      "         ...   \n",
      "356    0.000599\n",
      "357    0.000599\n",
      "358    0.000599\n",
      "359    0.000599\n",
      "360    0.005986\n",
      "Name: 11, Length: 361, dtype: float64\n"
     ]
    }
   ],
   "source": [
    "\n",
    "Data = Moving_average(5)\n",
    "Data = Data.T\n",
    "# Data = Data.drop(0,axis = 0)\n",
    "print(Data.iloc[:,0])"
   ]
  },
  {
   "cell_type": "code",
   "execution_count": 19,
   "metadata": {},
   "outputs": [],
   "source": [
    "def plot_wavelet(time, signal, scales, \n",
    "                 waveletname = 'cmor', \n",
    "                 cmap = plt.cm.seismic, \n",
    "                 title = 'Wavelet Transform (Power Spectrum) of signal', \n",
    "                 ylabel = 'Period (years)', \n",
    "                 xlabel = 'Time'):\n",
    "    \n",
    "    dt = time[1] - time[0]\n",
    "    [coefficients, frequencies] = pywt.cwt(signal, scales, waveletname, dt)\n",
    "    power = (abs(coefficients)) ** 2\n",
    "    period = 1. / frequencies\n",
    "    levels = [0.0625, 0.125, 0.25, 0.5, 1, 2, 4, 8]\n",
    "    contourlevels = np.log2(levels)\n",
    "    \n",
    "    fig, ax = plt.subplots(figsize=(15, 10))\n",
    "    im = ax.contourf(time, np.log2(period), np.log2(power), extend='both',cmap=cmap)\n",
    "    print(power,\"power\")\n",
    "    \n",
    "    ax.set_title(title, fontsize=20)\n",
    "    ax.set_ylabel(ylabel, fontsize=18)\n",
    "    ax.set_xlabel(xlabel, fontsize=18)\n",
    "    \n",
    "    yticks = 2**np.arange(np.ceil(np.log2(period.min())), np.ceil(np.log2(period.max())))\n",
    "    ax.set_yticks(np.log2(yticks))\n",
    "    ax.set_yticklabels(yticks)\n",
    "    ax.invert_yaxis()\n",
    "    ylim = ax.get_ylim()\n",
    "    ax.set_ylim(ylim[0], -1)\n",
    "    \n",
    "    cbar_ax = fig.add_axes([0.95, 0.5, 0.03, 0.25])\n",
    "    fig.colorbar(im, cax=cbar_ax, orientation=\"vertical\")\n",
    "    plt.show()\n",
    "    return power,period"
   ]
  },
  {
   "cell_type": "code",
   "execution_count": 22,
   "metadata": {},
   "outputs": [
    {
     "name": "stderr",
     "output_type": "stream",
     "text": [
      "<ipython-input-19-4abfb9f33599>:16: RuntimeWarning: divide by zero encountered in log2\n",
      "  im = ax.contourf(time, np.log2(period), np.log2(power), extend='both',cmap=cmap)\n"
     ]
    },
    {
     "name": "stdout",
     "output_type": "stream",
     "text": [
      "[[1.75910078e-04 8.53524943e-06 1.51257931e-05 ... 1.88733811e-05\n",
      "  1.86016035e-05 4.31350699e-05]\n",
      " [3.51602365e-04 5.81282324e-05 4.32001221e-06 ... 2.73690322e-05\n",
      "  8.67735824e-05 2.65405821e-04]\n",
      " [6.31962166e-04 3.53663489e-04 1.19268859e-04 ... 1.16449166e-04\n",
      "  2.89152428e-04 4.53519645e-04]\n",
      " ...\n",
      " [6.76522119e-02 7.08027880e-02 7.15744884e-02 ... 2.44194301e+01\n",
      "  2.40142078e+01 2.35195382e+01]\n",
      " [6.89171757e-02 7.12967600e-02 7.31394757e-02 ... 2.43470916e+01\n",
      "  2.38405094e+01 2.34877784e+01]\n",
      " [6.97740710e-02 7.26770451e-02 7.44750173e-02 ... 2.48162032e+01\n",
      "  2.45389096e+01 2.36290136e+01]] power\n"
     ]
    },
    {
     "data": {
      "image/png": "[encoded data removed]",
      "text/plain": [
       "<Figure size 1080x720 with 2 Axes>"
      ]
     },
     "metadata": {
      "needs_background": "light"
     },
     "output_type": "display_data"
    },
    {
     "name": "stdout",
     "output_type": "stream",
     "text": [
      "[[5.68351699e-05 3.73395067e-06 4.01843365e-08 ... 4.54020040e-06\n",
      "  4.45565512e-06 8.82712906e-06]\n",
      " [1.16391536e-04 3.85057109e-05 4.59112998e-06 ... 8.10143079e-06\n",
      "  2.04389488e-05 5.66799868e-05]\n",
      " [1.81623064e-04 9.30040302e-05 2.93479661e-05 ... 3.18333606e-05\n",
      "  6.95631855e-05 1.02472773e-04]\n",
      " ...\n",
      " [1.41359035e-02 1.49099902e-02 1.50281129e-02 ... 5.33254535e+00\n",
      "  5.18147318e+00 5.08777733e+00]\n",
      " [1.42217223e-02 1.51703082e-02 1.51752563e-02 ... 5.31567846e+00\n",
      "  5.18841485e+00 5.05456927e+00]\n",
      " [1.45399183e-02 1.55140591e-02 1.55559803e-02 ... 5.48086670e+00\n",
      "  5.28964201e+00 5.22466994e+00]] power\n"
     ]
    },
    {
     "data": {
      "image/png": "[encoded data removed]",
      "text/plain": [
       "<Figure size 1080x720 with 2 Axes>"
      ]
     },
     "metadata": {
      "needs_background": "light"
     },
     "output_type": "display_data"
    },
    {
     "name": "stdout",
     "output_type": "stream",
     "text": [
      "[[1.21707724e-05 5.27748816e-07 6.06840076e-08 ... 9.53479130e-07\n",
      "  9.15810786e-07 2.18097944e-06]\n",
      " [2.29135552e-05 7.48373489e-06 1.04539088e-06 ... 1.34709692e-06\n",
      "  4.25908154e-06 1.35746292e-05]\n",
      " [3.32211990e-05 1.75357670e-05 5.09041901e-06 ... 5.64320432e-06\n",
      "  1.44126248e-05 2.27798497e-05]\n",
      " ...\n",
      " [3.04644101e-03 3.29680050e-03 3.33417865e-03 ... 1.29422983e+00\n",
      "  1.24339607e+00 1.22312185e+00]\n",
      " [3.09683235e-03 3.32288085e-03 3.33635884e-03 ... 1.27320359e+00\n",
      "  1.24609589e+00 1.21447430e+00]\n",
      " [3.20235314e-03 3.44915293e-03 3.47037100e-03 ... 1.30577788e+00\n",
      "  1.26190836e+00 1.24821672e+00]] power\n"
     ]
    },
    {
     "data": {
      "image/png": "[encoded data removed]",
      "text/plain": [
       "<Figure size 1080x720 with 2 Axes>"
      ]
     },
     "metadata": {
      "needs_background": "light"
     },
     "output_type": "display_data"
    }
   ],
   "source": [
    " for k in [3,6,12]:\n",
    "    Data = Moving_average(k)\n",
    "    Data = Data.T\n",
    "    Data = Data.drop([i for i in np.arange(k-2)],axis = 0)\n",
    "    for i in range(Data.shape[1]):\n",
    "        df_nino = Data.iloc[:,4]\n",
    "        N = df_nino.shape[0]\n",
    "        t0=0\n",
    "        dt=0.25\n",
    "        time = np.arange(0, N) * dt + t0\n",
    "        signal = df_nino.values.squeeze()\n",
    "        scales = np.arange(1, 128)\n",
    "        pow_,per_ = plot_wavelet(time, signal, scales)\n",
    "        break\n",
    "#         pd.DataFrame(pow_).to_csv(f\"Transforms/{k}_dayMA/{i}_power.csv\")\n",
    "#         pd.DataFrame(pow_).to_csv(f\"Transforms/{k}_dayMA/{i}_period.csv\")"
   ]
  },
  {
   "cell_type": "code",
   "execution_count": 23,
   "metadata": {},
   "outputs": [
    {
     "data": {
      "text/plain": [
       "(362, 1008)"
      ]
     },
     "execution_count": 23,
     "metadata": {},
     "output_type": "execute_result"
    }
   ],
   "source": [
    "Data.shape"
   ]
  },
  {
   "cell_type": "code",
   "execution_count": 14,
   "metadata": {},
   "outputs": [
    {
     "data": {
      "text/html": [
       "<div>\n",
       "<style scoped>\n",
       "    .dataframe tbody tr th:only-of-type {\n",
       "        vertical-align: middle;\n",
       "    }\n",
       "\n",
       "    .dataframe tbody tr th {\n",
       "        vertical-align: top;\n",
       "    }\n",
       "\n",
       "    .dataframe thead th {\n",
       "        text-align: right;\n",
       "    }\n",
       "</style>\n",
       "<table border=\"1\" class=\"dataframe\">\n",
       "  <thead>\n",
       "    <tr style=\"text-align: right;\">\n",
       "      <th></th>\n",
       "      <th>11</th>\n",
       "      <th>12</th>\n",
       "      <th>14</th>\n",
       "      <th>18</th>\n",
       "      <th>25</th>\n",
       "      <th>27</th>\n",
       "      <th>28</th>\n",
       "      <th>30</th>\n",
       "      <th>32</th>\n",
       "      <th>34</th>\n",
       "      <th>...</th>\n",
       "      <th>3849</th>\n",
       "      <th>3850</th>\n",
       "      <th>3851</th>\n",
       "      <th>3854</th>\n",
       "      <th>3855</th>\n",
       "      <th>3857</th>\n",
       "      <th>3858</th>\n",
       "      <th>3865</th>\n",
       "      <th>3867</th>\n",
       "      <th>3868</th>\n",
       "    </tr>\n",
       "  </thead>\n",
       "  <tbody>\n",
       "    <tr>\n",
       "      <th>0</th>\n",
       "      <td>NaN</td>\n",
       "      <td>NaN</td>\n",
       "      <td>NaN</td>\n",
       "      <td>NaN</td>\n",
       "      <td>NaN</td>\n",
       "      <td>NaN</td>\n",
       "      <td>NaN</td>\n",
       "      <td>NaN</td>\n",
       "      <td>NaN</td>\n",
       "      <td>NaN</td>\n",
       "      <td>...</td>\n",
       "      <td>NaN</td>\n",
       "      <td>NaN</td>\n",
       "      <td>NaN</td>\n",
       "      <td>NaN</td>\n",
       "      <td>NaN</td>\n",
       "      <td>NaN</td>\n",
       "      <td>NaN</td>\n",
       "      <td>NaN</td>\n",
       "      <td>NaN</td>\n",
       "      <td>NaN</td>\n",
       "    </tr>\n",
       "    <tr>\n",
       "      <th>1</th>\n",
       "      <td>0.001066</td>\n",
       "      <td>0.145688</td>\n",
       "      <td>0.012591</td>\n",
       "      <td>0.084618</td>\n",
       "      <td>0.055246</td>\n",
       "      <td>0.001244</td>\n",
       "      <td>0.001244</td>\n",
       "      <td>0.003796</td>\n",
       "      <td>0.071961</td>\n",
       "      <td>0.002030</td>\n",
       "      <td>...</td>\n",
       "      <td>0.428624</td>\n",
       "      <td>0.125544</td>\n",
       "      <td>0.418690</td>\n",
       "      <td>0.574591</td>\n",
       "      <td>0.574591</td>\n",
       "      <td>0.498179</td>\n",
       "      <td>0.119989</td>\n",
       "      <td>0.136734</td>\n",
       "      <td>0.265997</td>\n",
       "      <td>0.904943</td>\n",
       "    </tr>\n",
       "    <tr>\n",
       "      <th>2</th>\n",
       "      <td>0.004263</td>\n",
       "      <td>0.150770</td>\n",
       "      <td>0.012654</td>\n",
       "      <td>0.084237</td>\n",
       "      <td>0.055957</td>\n",
       "      <td>0.001286</td>\n",
       "      <td>0.001286</td>\n",
       "      <td>0.003819</td>\n",
       "      <td>0.071686</td>\n",
       "      <td>0.002042</td>\n",
       "      <td>...</td>\n",
       "      <td>0.424763</td>\n",
       "      <td>0.118092</td>\n",
       "      <td>0.464175</td>\n",
       "      <td>0.507117</td>\n",
       "      <td>0.507117</td>\n",
       "      <td>0.446310</td>\n",
       "      <td>0.114463</td>\n",
       "      <td>0.139119</td>\n",
       "      <td>0.263674</td>\n",
       "      <td>0.848677</td>\n",
       "    </tr>\n",
       "    <tr>\n",
       "      <th>3</th>\n",
       "      <td>0.007461</td>\n",
       "      <td>0.151617</td>\n",
       "      <td>0.014715</td>\n",
       "      <td>0.085761</td>\n",
       "      <td>0.072477</td>\n",
       "      <td>0.001352</td>\n",
       "      <td>0.001352</td>\n",
       "      <td>0.003841</td>\n",
       "      <td>0.076373</td>\n",
       "      <td>0.002074</td>\n",
       "      <td>...</td>\n",
       "      <td>0.413178</td>\n",
       "      <td>0.112932</td>\n",
       "      <td>0.431519</td>\n",
       "      <td>0.465923</td>\n",
       "      <td>0.465923</td>\n",
       "      <td>0.405298</td>\n",
       "      <td>0.110911</td>\n",
       "      <td>0.131964</td>\n",
       "      <td>0.260770</td>\n",
       "      <td>0.764278</td>\n",
       "    </tr>\n",
       "    <tr>\n",
       "      <th>4</th>\n",
       "      <td>0.008527</td>\n",
       "      <td>0.158394</td>\n",
       "      <td>0.015001</td>\n",
       "      <td>0.087667</td>\n",
       "      <td>0.071767</td>\n",
       "      <td>0.001388</td>\n",
       "      <td>0.001388</td>\n",
       "      <td>0.003796</td>\n",
       "      <td>0.086574</td>\n",
       "      <td>0.002042</td>\n",
       "      <td>...</td>\n",
       "      <td>0.405455</td>\n",
       "      <td>0.108346</td>\n",
       "      <td>0.386035</td>\n",
       "      <td>0.433962</td>\n",
       "      <td>0.433962</td>\n",
       "      <td>0.337748</td>\n",
       "      <td>0.107753</td>\n",
       "      <td>0.125604</td>\n",
       "      <td>0.256124</td>\n",
       "      <td>0.708013</td>\n",
       "    </tr>\n",
       "    <tr>\n",
       "      <th>...</th>\n",
       "      <td>...</td>\n",
       "      <td>...</td>\n",
       "      <td>...</td>\n",
       "      <td>...</td>\n",
       "      <td>...</td>\n",
       "      <td>...</td>\n",
       "      <td>...</td>\n",
       "      <td>...</td>\n",
       "      <td>...</td>\n",
       "      <td>...</td>\n",
       "      <td>...</td>\n",
       "      <td>...</td>\n",
       "      <td>...</td>\n",
       "      <td>...</td>\n",
       "      <td>...</td>\n",
       "      <td>...</td>\n",
       "      <td>...</td>\n",
       "      <td>...</td>\n",
       "      <td>...</td>\n",
       "      <td>...</td>\n",
       "      <td>...</td>\n",
       "    </tr>\n",
       "    <tr>\n",
       "      <th>358</th>\n",
       "      <td>0.001066</td>\n",
       "      <td>0.174487</td>\n",
       "      <td>0.010751</td>\n",
       "      <td>0.093575</td>\n",
       "      <td>0.054180</td>\n",
       "      <td>0.001226</td>\n",
       "      <td>0.001226</td>\n",
       "      <td>0.003071</td>\n",
       "      <td>0.062174</td>\n",
       "      <td>0.001607</td>\n",
       "      <td>...</td>\n",
       "      <td>0.358345</td>\n",
       "      <td>0.106053</td>\n",
       "      <td>0.075108</td>\n",
       "      <td>0.381403</td>\n",
       "      <td>0.381403</td>\n",
       "      <td>0.369111</td>\n",
       "      <td>0.329970</td>\n",
       "      <td>0.220205</td>\n",
       "      <td>0.476821</td>\n",
       "      <td>0.576725</td>\n",
       "    </tr>\n",
       "    <tr>\n",
       "      <th>359</th>\n",
       "      <td>0.001066</td>\n",
       "      <td>0.178722</td>\n",
       "      <td>0.010529</td>\n",
       "      <td>0.093194</td>\n",
       "      <td>0.052048</td>\n",
       "      <td>0.001220</td>\n",
       "      <td>0.001220</td>\n",
       "      <td>0.003107</td>\n",
       "      <td>0.060933</td>\n",
       "      <td>0.001595</td>\n",
       "      <td>...</td>\n",
       "      <td>0.341355</td>\n",
       "      <td>0.095734</td>\n",
       "      <td>0.070559</td>\n",
       "      <td>0.334527</td>\n",
       "      <td>0.334527</td>\n",
       "      <td>0.330511</td>\n",
       "      <td>0.286158</td>\n",
       "      <td>0.203511</td>\n",
       "      <td>0.439651</td>\n",
       "      <td>0.520460</td>\n",
       "    </tr>\n",
       "    <tr>\n",
       "      <th>360</th>\n",
       "      <td>0.010658</td>\n",
       "      <td>0.182110</td>\n",
       "      <td>0.010434</td>\n",
       "      <td>0.093003</td>\n",
       "      <td>0.051871</td>\n",
       "      <td>0.001424</td>\n",
       "      <td>0.001424</td>\n",
       "      <td>0.003066</td>\n",
       "      <td>0.060244</td>\n",
       "      <td>0.001601</td>\n",
       "      <td>...</td>\n",
       "      <td>0.324364</td>\n",
       "      <td>0.087136</td>\n",
       "      <td>0.070559</td>\n",
       "      <td>0.288361</td>\n",
       "      <td>0.288361</td>\n",
       "      <td>0.306386</td>\n",
       "      <td>0.253003</td>\n",
       "      <td>0.193176</td>\n",
       "      <td>0.407127</td>\n",
       "      <td>0.473571</td>\n",
       "    </tr>\n",
       "    <tr>\n",
       "      <th>361</th>\n",
       "      <td>0.056489</td>\n",
       "      <td>0.229544</td>\n",
       "      <td>0.010561</td>\n",
       "      <td>0.092432</td>\n",
       "      <td>0.051516</td>\n",
       "      <td>0.001562</td>\n",
       "      <td>0.001562</td>\n",
       "      <td>0.003053</td>\n",
       "      <td>0.062036</td>\n",
       "      <td>0.001607</td>\n",
       "      <td>...</td>\n",
       "      <td>0.321661</td>\n",
       "      <td>0.078537</td>\n",
       "      <td>0.083038</td>\n",
       "      <td>0.272025</td>\n",
       "      <td>0.272025</td>\n",
       "      <td>0.335336</td>\n",
       "      <td>0.230505</td>\n",
       "      <td>0.252798</td>\n",
       "      <td>0.380992</td>\n",
       "      <td>0.467945</td>\n",
       "    </tr>\n",
       "    <tr>\n",
       "      <th>362</th>\n",
       "      <td>0.061819</td>\n",
       "      <td>0.605623</td>\n",
       "      <td>0.010497</td>\n",
       "      <td>0.092622</td>\n",
       "      <td>0.051160</td>\n",
       "      <td>0.001544</td>\n",
       "      <td>0.001544</td>\n",
       "      <td>0.003071</td>\n",
       "      <td>0.061622</td>\n",
       "      <td>0.001626</td>\n",
       "      <td>...</td>\n",
       "      <td>11.623048</td>\n",
       "      <td>0.299815</td>\n",
       "      <td>28.340313</td>\n",
       "      <td>0.317481</td>\n",
       "      <td>0.317481</td>\n",
       "      <td>0.392029</td>\n",
       "      <td>0.247478</td>\n",
       "      <td>1.065251</td>\n",
       "      <td>1.945614</td>\n",
       "      <td>8.392997</td>\n",
       "    </tr>\n",
       "  </tbody>\n",
       "</table>\n",
       "<p>363 rows × 1008 columns</p>\n",
       "</div>"
      ],
      "text/plain": [
       "           11        12        14        18        25        27        28  \\\n",
       "0         NaN       NaN       NaN       NaN       NaN       NaN       NaN   \n",
       "1    0.001066  0.145688  0.012591  0.084618  0.055246  0.001244  0.001244   \n",
       "2    0.004263  0.150770  0.012654  0.084237  0.055957  0.001286  0.001286   \n",
       "3    0.007461  0.151617  0.014715  0.085761  0.072477  0.001352  0.001352   \n",
       "4    0.008527  0.158394  0.015001  0.087667  0.071767  0.001388  0.001388   \n",
       "..        ...       ...       ...       ...       ...       ...       ...   \n",
       "358  0.001066  0.174487  0.010751  0.093575  0.054180  0.001226  0.001226   \n",
       "359  0.001066  0.178722  0.010529  0.093194  0.052048  0.001220  0.001220   \n",
       "360  0.010658  0.182110  0.010434  0.093003  0.051871  0.001424  0.001424   \n",
       "361  0.056489  0.229544  0.010561  0.092432  0.051516  0.001562  0.001562   \n",
       "362  0.061819  0.605623  0.010497  0.092622  0.051160  0.001544  0.001544   \n",
       "\n",
       "           30        32        34  ...       3849      3850       3851  \\\n",
       "0         NaN       NaN       NaN  ...        NaN       NaN        NaN   \n",
       "1    0.003796  0.071961  0.002030  ...   0.428624  0.125544   0.418690   \n",
       "2    0.003819  0.071686  0.002042  ...   0.424763  0.118092   0.464175   \n",
       "3    0.003841  0.076373  0.002074  ...   0.413178  0.112932   0.431519   \n",
       "4    0.003796  0.086574  0.002042  ...   0.405455  0.108346   0.386035   \n",
       "..        ...       ...       ...  ...        ...       ...        ...   \n",
       "358  0.003071  0.062174  0.001607  ...   0.358345  0.106053   0.075108   \n",
       "359  0.003107  0.060933  0.001595  ...   0.341355  0.095734   0.070559   \n",
       "360  0.003066  0.060244  0.001601  ...   0.324364  0.087136   0.070559   \n",
       "361  0.003053  0.062036  0.001607  ...   0.321661  0.078537   0.083038   \n",
       "362  0.003071  0.061622  0.001626  ...  11.623048  0.299815  28.340313   \n",
       "\n",
       "         3854      3855      3857      3858      3865      3867      3868  \n",
       "0         NaN       NaN       NaN       NaN       NaN       NaN       NaN  \n",
       "1    0.574591  0.574591  0.498179  0.119989  0.136734  0.265997  0.904943  \n",
       "2    0.507117  0.507117  0.446310  0.114463  0.139119  0.263674  0.848677  \n",
       "3    0.465923  0.465923  0.405298  0.110911  0.131964  0.260770  0.764278  \n",
       "4    0.433962  0.433962  0.337748  0.107753  0.125604  0.256124  0.708013  \n",
       "..        ...       ...       ...       ...       ...       ...       ...  \n",
       "358  0.381403  0.381403  0.369111  0.329970  0.220205  0.476821  0.576725  \n",
       "359  0.334527  0.334527  0.330511  0.286158  0.203511  0.439651  0.520460  \n",
       "360  0.288361  0.288361  0.306386  0.253003  0.193176  0.407127  0.473571  \n",
       "361  0.272025  0.272025  0.335336  0.230505  0.252798  0.380992  0.467945  \n",
       "362  0.317481  0.317481  0.392029  0.247478  1.065251  1.945614  8.392997  \n",
       "\n",
       "[363 rows x 1008 columns]"
      ]
     },
     "execution_count": 14,
     "metadata": {},
     "output_type": "execute_result"
    }
   ],
   "source": [
    "Data"
   ]
  },
  {
   "cell_type": "code",
   "execution_count": 59,
   "metadata": {},
   "outputs": [],
   "source": [
    "data = data.fillna(method = 'ffill')"
   ]
  },
  {
   "cell_type": "code",
   "execution_count": 57,
   "metadata": {},
   "outputs": [
    {
     "data": {
      "text/plain": [
       "[0, 1, 2]"
      ]
     },
     "execution_count": 57,
     "metadata": {},
     "output_type": "execute_result"
    }
   ],
   "source": [
    "[i for i in np.arange(5-2)]"
   ]
  },
  {
   "cell_type": "code",
   "execution_count": 1,
   "metadata": {},
   "outputs": [],
   "source": [
    "import pandas as pd"
   ]
  },
  {
   "cell_type": "code",
   "execution_count": 6,
   "metadata": {},
   "outputs": [
    {
     "data": {
      "text/plain": [
       "(127, 345)"
      ]
     },
     "execution_count": 6,
     "metadata": {},
     "output_type": "execute_result"
    }
   ],
   "source": [
    "data2 = pd.read_csv('Transforms/12_dayMA/0_period.csv')\n",
    "data2.shape"
   ]
  },
  {
   "cell_type": "code",
   "execution_count": 3,
   "metadata": {},
   "outputs": [
    {
     "data": {
      "text/plain": [
       "(127, 345)"
      ]
     },
     "execution_count": 3,
     "metadata": {},
     "output_type": "execute_result"
    }
   ],
   "source": [
    "data = pd.read_csv('Transforms/12_dayMA/0_power.csv')\n",
    "data.shape"
   ]
  },
  {
   "cell_type": "code",
   "execution_count": 4,
   "metadata": {},
   "outputs": [],
   "source": [
    "from matplotlib import pyplot as plt"
   ]
  },
  {
   "cell_type": "code",
   "execution_count": 7,
   "metadata": {},
   "outputs": [
    {
     "data": {
      "text/plain": [
       "<matplotlib.image.AxesImage at 0x7fb2e3ded460>"
      ]
     },
     "execution_count": 7,
     "metadata": {},
     "output_type": "execute_result"
    },
    {
     "data": {
      "image/png": "[encoded data removed]",
      "text/plain": [
       "<Figure size 432x288 with 1 Axes>"
      ]
     },
     "metadata": {
      "needs_background": "light"
     },
     "output_type": "display_data"
    }
   ],
   "source": [
    "plt.imshow(data2)"
   ]
  },
  {
   "cell_type": "code",
   "execution_count": null,
   "metadata": {},
   "outputs": [],
   "source": []
  }
 ],
 "metadata": {
  "kernelspec": {
   "display_name": "Python 3",
   "language": "python",
   "name": "python3"
  },
  "language_info": {
   "codemirror_mode": {
    "name": "ipython",
    "version": 3
   },
   "file_extension": ".py",
   "mimetype": "text/x-python",
   "name": "python",
   "nbconvert_exporter": "python",
   "pygments_lexer": "ipython3",
   "version": "3.8.5"
  }
 },
 "nbformat": 4,
 "nbformat_minor": 4
}
